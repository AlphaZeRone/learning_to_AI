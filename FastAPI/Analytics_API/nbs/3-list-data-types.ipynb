{
 "cells": [
  {
   "cell_type": "code",
   "execution_count": 2,
   "metadata": {},
   "outputs": [
    {
     "data": {
      "text/plain": [
       "'http://localhost:8002/api/events'"
      ]
     },
     "execution_count": 2,
     "metadata": {},
     "output_type": "execute_result"
    }
   ],
   "source": [
    "import requests\n",
    "from pprint import pprint\n",
    "\n",
    "path = \"/api/events\"\n",
    "base_url = \"http://localhost:8002\"\n",
    "endpoint = f\"{base_url}{path}\"\n",
    "endpoint\n"
   ]
  },
  {
   "cell_type": "code",
   "execution_count": 3,
   "metadata": {},
   "outputs": [
    {
     "name": "stdout",
     "output_type": "stream",
     "text": [
      "ok True\n",
      "[{'bucket': '2025-06-08T00:00:00Z',\n",
      "  'count': 1355,\n",
      "  'id': None,\n",
      "  'page': '/about',\n",
      "  'time': '2025-06-08T12:56:34.888910Z'},\n",
      " {'bucket': '2025-06-08T00:00:00Z',\n",
      "  'count': 1416,\n",
      "  'id': None,\n",
      "  'page': '/blog',\n",
      "  'time': '2025-06-08T12:56:34.888948Z'},\n",
      " {'bucket': '2025-06-08T00:00:00Z',\n",
      "  'count': 1500,\n",
      "  'id': None,\n",
      "  'page': '/cart',\n",
      "  'time': '2025-06-08T12:56:34.888957Z'},\n",
      " {'bucket': '2025-06-08T00:00:00Z',\n",
      "  'count': 1389,\n",
      "  'id': None,\n",
      "  'page': '/checkout',\n",
      "  'time': '2025-06-08T12:56:34.888962Z'},\n",
      " {'bucket': '2025-06-08T00:00:00Z',\n",
      "  'count': 1508,\n",
      "  'id': None,\n",
      "  'page': '/contact',\n",
      "  'time': '2025-06-08T12:56:34.888968Z'},\n",
      " {'bucket': '2025-06-08T00:00:00Z',\n",
      "  'count': 1386,\n",
      "  'id': None,\n",
      "  'page': '/home',\n",
      "  'time': '2025-06-08T12:56:34.888974Z'},\n",
      " {'bucket': '2025-06-08T00:00:00Z',\n",
      "  'count': 1446,\n",
      "  'id': None,\n",
      "  'page': '/products',\n",
      "  'time': '2025-06-08T12:56:34.888982Z'}]\n"
     ]
    }
   ],
   "source": [
    "response = requests.get(endpoint)\n",
    "print('ok', response.ok)\n",
    "if response.ok:\n",
    "    data = response.json()\n",
    "    pprint(data)\n"
   ]
  },
  {
   "cell_type": "code",
   "execution_count": 23,
   "metadata": {},
   "outputs": [
    {
     "name": "stdout",
     "output_type": "stream",
     "text": [
      "ok 200\n",
      "{'description': '',\n",
      " 'id': 2,\n",
      " 'page': '/contact',\n",
      " 'time': '2025-06-08T09:17:34.221639Z',\n",
      " 'updated_at': '2025-06-08T09:17:34.221946Z'}\n"
     ]
    }
   ],
   "source": [
    "detail_path = \"/api/events/2\"\n",
    "detail_endpoint = f\"{base_url}{detail_path}\"\n",
    "r = requests.get(detail_endpoint)\n",
    "print('ok', r.status_code)\n",
    "if r.ok:\n",
    "    data = r.json()\n",
    "    pprint(data)\n"
   ]
  },
  {
   "cell_type": "code",
   "execution_count": null,
   "metadata": {},
   "outputs": [],
   "source": []
  }
 ],
 "metadata": {
  "kernelspec": {
   "display_name": "venv",
   "language": "python",
   "name": "python3"
  },
  "language_info": {
   "codemirror_mode": {
    "name": "ipython",
    "version": 3
   },
   "file_extension": ".py",
   "mimetype": "text/x-python",
   "name": "python",
   "nbconvert_exporter": "python",
   "pygments_lexer": "ipython3",
   "version": "3.11.5"
  }
 },
 "nbformat": 4,
 "nbformat_minor": 2
}
