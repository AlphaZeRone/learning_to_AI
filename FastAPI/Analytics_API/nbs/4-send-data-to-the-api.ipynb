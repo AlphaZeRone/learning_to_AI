{
 "cells": [
  {
   "cell_type": "code",
   "execution_count": 86,
   "metadata": {},
   "outputs": [],
   "source": [
    "import requests\n"
   ]
  },
  {
   "cell_type": "code",
   "execution_count": 87,
   "metadata": {},
   "outputs": [
    {
     "name": "stdout",
     "output_type": "stream",
     "text": [
      "{'date': 'Tue, 03 Jun 2025 17:46:59 GMT', 'server': 'uvicorn', 'content-length': '57', 'content-type': 'application/json'}\n",
      "ok True\n",
      "{'id': 123, 'page': '/test+', 'description': 'No description'} <class 'dict'> None\n"
     ]
    }
   ],
   "source": [
    "path = \"/api/events/\"\n",
    "base_url = \"http://localhost:8002\"\n",
    "create_endpoint = f\"{base_url}{path}\"\n",
    "\n",
    "headers = {\n",
    "    \"Content-Type\": \"application/json\"\n",
    "}\n",
    "response = requests.post(create_endpoint, json = {\"page\": \"/test+\"})\n",
    "print(response.headers)\n",
    "print('ok', response.ok)\n",
    "\n",
    "if response.ok:\n",
    "    data = response.json()\n",
    "    print(data, type(data), data.get('items'))\n",
    "else :\n",
    "    print(response.text)"
   ]
  },
  {
   "cell_type": "code",
   "execution_count": 88,
   "metadata": {},
   "outputs": [
    {
     "name": "stdout",
     "output_type": "stream",
     "text": [
      "{'date': 'Tue, 03 Jun 2025 17:47:07 GMT', 'server': 'uvicorn', 'content-length': '50', 'content-type': 'application/json'}\n",
      "ok True\n",
      "{'id': 123, 'page': None, 'description': 'hello world'} <class 'dict'> None\n"
     ]
    }
   ],
   "source": [
    "details_path = \"/api/events/123\"\n",
    "details_endpoint = f\"{base_url}{details_path}\"\n",
    "\n",
    "response = requests.put(details_endpoint, json={\"description\": \"hello world\"})\n",
    "print(response.headers)\n",
    "print('ok', response.ok)\n",
    "\n",
    "if response.ok:\n",
    "    data = response.json()\n",
    "    print(data, type(data), data.get('items'))\n",
    "else :\n",
    "    print(response.text)"
   ]
  }
 ],
 "metadata": {
  "kernelspec": {
   "display_name": "venv",
   "language": "python",
   "name": "python3"
  },
  "language_info": {
   "codemirror_mode": {
    "name": "ipython",
    "version": 3
   },
   "file_extension": ".py",
   "mimetype": "text/x-python",
   "name": "python",
   "nbconvert_exporter": "python",
   "pygments_lexer": "ipython3",
   "version": "3.11.5"
  }
 },
 "nbformat": 4,
 "nbformat_minor": 2
}
