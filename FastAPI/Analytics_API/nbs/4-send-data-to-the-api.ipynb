{
 "cells": [
  {
   "cell_type": "code",
   "execution_count": 1,
   "metadata": {},
   "outputs": [],
   "source": [
    "import requests\n"
   ]
  },
  {
   "cell_type": "code",
   "execution_count": 10,
   "metadata": {},
   "outputs": [
    {
     "name": "stdout",
     "output_type": "stream",
     "text": [
      "{'date': 'Thu, 05 Jun 2025 14:42:24 GMT', 'server': 'uvicorn', 'content-length': '42', 'content-type': 'application/json'}\n",
      "ok True\n",
      "{'description': '', 'id': 10, 'page': '/test+'} <class 'dict'> None\n"
     ]
    }
   ],
   "source": [
    "path = \"/api/events/\"\n",
    "base_url = \"http://localhost:8002\"\n",
    "create_endpoint = f\"{base_url}{path}\"\n",
    "\n",
    "headers = {\n",
    "    \"Content-Type\": \"application/json\"\n",
    "}\n",
    "response = requests.post(create_endpoint, json = {\"page\": \"/test+\"})\n",
    "print(response.headers)\n",
    "print('ok', response.ok)\n",
    "\n",
    "if response.ok:\n",
    "    data = response.json()\n",
    "    print(data, type(data), data.get('items'))\n",
    "else :\n",
    "    print(response.text)"
   ]
  },
  {
   "cell_type": "code",
   "execution_count": 14,
   "metadata": {},
   "outputs": [
    {
     "name": "stdout",
     "output_type": "stream",
     "text": [
      "{'date': 'Thu, 05 Jun 2025 15:51:48 GMT', 'server': 'uvicorn', 'content-length': '53', 'content-type': 'application/json'}\n",
      "ok True\n",
      "{'description': 'fuck you all', 'id': 6, 'page': '/test+'} <class 'dict'> None\n"
     ]
    }
   ],
   "source": [
    "details_path = \"/api/events/6\"\n",
    "details_endpoint = f\"{base_url}{details_path}\"\n",
    "\n",
    "response = requests.put(details_endpoint, json={\"description\": \"fuck you all\"})\n",
    "print(response.headers)\n",
    "print('ok', response.ok)\n",
    "\n",
    "if response.ok:\n",
    "    data = response.json()\n",
    "    print(data, type(data), data.get('items'))\n",
    "else :\n",
    "    print(response.text)"
   ]
  },
  {
   "cell_type": "code",
   "execution_count": 15,
   "metadata": {},
   "outputs": [
    {
     "name": "stdout",
     "output_type": "stream",
     "text": [
      "{'date': 'Thu, 05 Jun 2025 17:59:10 GMT', 'server': 'uvicorn', 'content-length': '21', 'content-type': 'text/plain; charset=utf-8'}\n",
      "ok False\n"
     ]
    }
   ],
   "source": [
    "delete_path = \"/api/events/2\"\n",
    "delete_endpoint = f\"{base_url}{delete_path}\"\n",
    "\n",
    "response = requests.delete(delete_endpoint)\n",
    "print(response.headers)\n",
    "print('ok', response.ok)"
   ]
  }
 ],
 "metadata": {
  "kernelspec": {
   "display_name": "venv",
   "language": "python",
   "name": "python3"
  },
  "language_info": {
   "codemirror_mode": {
    "name": "ipython",
    "version": 3
   },
   "file_extension": ".py",
   "mimetype": "text/x-python",
   "name": "python",
   "nbconvert_exporter": "python",
   "pygments_lexer": "ipython3",
   "version": "3.11.5"
  }
 },
 "nbformat": 4,
 "nbformat_minor": 2
}
