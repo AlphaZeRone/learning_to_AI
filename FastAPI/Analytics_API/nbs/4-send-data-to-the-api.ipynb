{
 "cells": [
  {
   "cell_type": "code",
   "execution_count": 4,
   "metadata": {},
   "outputs": [],
   "source": [
    "import requests\n"
   ]
  },
  {
   "cell_type": "code",
   "execution_count": 9,
   "metadata": {},
   "outputs": [
    {
     "name": "stdout",
     "output_type": "stream",
     "text": [
      "{'date': 'Thu, 05 Jun 2025 19:10:49 GMT', 'server': 'uvicorn', 'content-length': '138', 'content-type': 'application/json'}\n",
      "ok True\n",
      "{'created_at': '2025-06-05T19:10:49.663351Z', 'page': '/test+', 'updated_at': '2025-06-05T19:10:49.663359Z', 'id': 3, 'description': 'KuyRaiAiSus'} <class 'dict'> None\n"
     ]
    }
   ],
   "source": [
    "path = \"/api/events/\"\n",
    "base_url = \"http://localhost:8002\"\n",
    "create_endpoint = f\"{base_url}{path}\"\n",
    "\n",
    "headers = {\n",
    "    \"Content-Type\": \"application/json\"\n",
    "}\n",
    "response = requests.post(create_endpoint, json = {\"page\": \"/test+\", \"id\": 30, \"description\": \"KuyRaiAiSus\"})\n",
    "print(response.headers)\n",
    "print('ok', response.ok)\n",
    "\n",
    "if response.ok:\n",
    "    data = response.json()\n",
    "    print(data, type(data), data.get('items'))\n",
    "else :\n",
    "    print(response.text)"
   ]
  },
  {
   "cell_type": "code",
   "execution_count": 10,
   "metadata": {},
   "outputs": [
    {
     "name": "stdout",
     "output_type": "stream",
     "text": [
      "{'date': 'Thu, 05 Jun 2025 19:11:37 GMT', 'server': 'uvicorn', 'content-length': '139', 'content-type': 'application/json'}\n",
      "ok True\n",
      "{'created_at': '2025-06-05T19:10:49.663351Z', 'page': '/test+', 'updated_at': '2025-06-05T19:11:38.797666Z', 'id': 3, 'description': 'fuck you all'} <class 'dict'> None\n"
     ]
    }
   ],
   "source": [
    "details_path = \"/api/events/3\"\n",
    "details_endpoint = f\"{base_url}{details_path}\"\n",
    "\n",
    "response = requests.put(details_endpoint, json={\"description\": \"fuck you all\"})\n",
    "print(response.headers)\n",
    "print('ok', response.ok)\n",
    "\n",
    "if response.ok:\n",
    "    data = response.json()\n",
    "    print(data, type(data), data.get('items'))\n",
    "else :\n",
    "    print(response.text)"
   ]
  },
  {
   "cell_type": "code",
   "execution_count": 33,
   "metadata": {},
   "outputs": [
    {
     "name": "stdout",
     "output_type": "stream",
     "text": [
      "{'date': 'Thu, 05 Jun 2025 18:38:21 GMT', 'server': 'uvicorn', 'content-length': '28', 'content-type': 'application/json'}\n",
      "ok False\n"
     ]
    }
   ],
   "source": [
    "delete_path = \"/api/events/20\"\n",
    "delete_endpoint = f\"{base_url}{delete_path}\"\n",
    "\n",
    "response = requests.delete(delete_endpoint)\n",
    "print(response.headers)\n",
    "print('ok', response.ok)"
   ]
  },
  {
   "cell_type": "code",
   "execution_count": null,
   "metadata": {},
   "outputs": [],
   "source": []
  }
 ],
 "metadata": {
  "kernelspec": {
   "display_name": "venv",
   "language": "python",
   "name": "python3"
  },
  "language_info": {
   "codemirror_mode": {
    "name": "ipython",
    "version": 3
   },
   "file_extension": ".py",
   "mimetype": "text/x-python",
   "name": "python",
   "nbconvert_exporter": "python",
   "pygments_lexer": "ipython3",
   "version": "3.11.5"
  }
 },
 "nbformat": 4,
 "nbformat_minor": 2
}
