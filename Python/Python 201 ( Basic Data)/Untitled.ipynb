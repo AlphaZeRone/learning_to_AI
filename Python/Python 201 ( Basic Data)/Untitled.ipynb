{
 "cells": [
  {
   "cell_type": "raw",
   "id": "d372d54f-4424-43a5-8b79-8d71a64605cd",
   "metadata": {},
   "source": [
    "Test Jupyter"
   ]
  },
  {
   "cell_type": "code",
   "execution_count": 2,
   "id": "7cac1677-b5bf-47c8-b360-54365630fa0f",
   "metadata": {},
   "outputs": [
    {
     "name": "stdout",
     "output_type": "stream",
     "text": [
      "Hello\n"
     ]
    }
   ],
   "source": [
    "print(\"Hello\")"
   ]
  },
  {
   "cell_type": "code",
   "execution_count": 3,
   "id": "d0832ea5-4b6e-49f4-bac8-fa4b55f1912a",
   "metadata": {},
   "outputs": [],
   "source": [
    "import pandas as pd"
   ]
  },
  {
   "cell_type": "code",
   "execution_count": null,
   "id": "ecf2aa1b-9f56-46c0-ad15-c03e52b4bb9f",
   "metadata": {},
   "outputs": [],
   "source": []
  }
 ],
 "metadata": {
  "kernelspec": {
   "display_name": "Python 3 (ipykernel)",
   "language": "python",
   "name": "python3"
  },
  "language_info": {
   "codemirror_mode": {
    "name": "ipython",
    "version": 3
   },
   "file_extension": ".py",
   "mimetype": "text/x-python",
   "name": "python",
   "nbconvert_exporter": "python",
   "pygments_lexer": "ipython3",
   "version": "3.11.5"
  }
 },
 "nbformat": 4,
 "nbformat_minor": 5
}
